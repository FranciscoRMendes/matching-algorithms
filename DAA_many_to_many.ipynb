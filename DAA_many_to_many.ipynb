{
  "nbformat": 4,
  "nbformat_minor": 0,
  "metadata": {
    "colab": {
      "provenance": [],
      "toc_visible": true,
      "authorship_tag": "ABX9TyNVcJZg2pVUZE/uMv0bud5x",
      "include_colab_link": true
    },
    "kernelspec": {
      "name": "python3",
      "display_name": "Python 3"
    },
    "language_info": {
      "name": "python"
    }
  },
  "cells": [
    {
      "cell_type": "markdown",
      "metadata": {
        "id": "view-in-github",
        "colab_type": "text"
      },
      "source": [
        "<a href=\"https://colab.research.google.com/github/FranciscoRMendes/matching-algorithms/blob/main/DAA_many_to_many.ipynb\" target=\"_parent\"><img src=\"https://colab.research.google.com/assets/colab-badge.svg\" alt=\"Open In Colab\"/></a>"
      ]
    },
    {
      "cell_type": "code",
      "execution_count": null,
      "metadata": {
        "id": "kuca2e1DepKk"
      },
      "outputs": [],
      "source": [
        "def C_f(X,f):\n",
        "  pref = F[f]\n",
        "  for i in pref:\n",
        "    if i in X:\n",
        "      return i\n",
        "  return []\n",
        "\n",
        "def C_w(X,w):\n",
        "  pref = W[w]\n",
        "  for i in pref:\n",
        "    if i in X:\n",
        "      return i\n",
        "  return []\n",
        "\n",
        "def U_f(X,f):\n",
        "  return F_util[f].index(X)\n",
        "\n",
        "def U_w(X,f):\n",
        "  return W_util[f].index(X)\n",
        "\n",
        "from itertools import chain, combinations\n",
        "\n",
        "def powerset(iterable):\n",
        "    \"powerset([1,2,3]) --> () (1,) (2,) (3,) (1,2) (1,3) (2,3) (1,2,3)\"\n",
        "    s = list(iterable)\n",
        "    return chain.from_iterable(combinations(s, r) for r in range(len(s)+1))\n",
        "\n",
        "def powerset(iterable):\n",
        "    \"powerset([1,2,3]) --> () (1,) (2,) (3,) (1,2) (1,3) (2,3) (1,2,3)\"\n",
        "    s = list(iterable)\n",
        "    x = chain.from_iterable(combinations(s, r) for r in range(len(s)+1))\n",
        "    return [list(x) for x in list(x)]\n",
        "\n",
        "def received_offers(offers):\n",
        "  out = list()\n",
        "  for worker in range(len(W)):\n",
        "    x = list()\n",
        "    for i,o in enumerate(offers):\n",
        "      if worker+1 in o:\n",
        "        x.append(i+1)\n",
        "    out.append(x)\n",
        "  return out\n",
        "\n",
        "def provisional_matching(prov_acceptances):\n",
        "  out = list()\n",
        "  for firm in range(len(F)):\n",
        "    x = list()\n",
        "    for i,p in enumerate(prov_acceptances):\n",
        "      if firm+1 in p:\n",
        "        x.append(i+1)\n",
        "    out.append(x)\n",
        "  return out\n",
        "\n",
        "def update_preferences(rejected_offers):\n",
        "  for i in range(len(F)):\n",
        "    pref = F[i]\n",
        "    F[i] = [x for x in pref if not any([y in rejected_offers[i] for y in x])]\n",
        "\n"
      ]
    },
    {
      "cell_type": "code",
      "source": [
        "F = [[[1,2],[1,3],[2,4],[3,4],[1,4],[2,3],[1],[2],[3],[4]],\n",
        "     [[1,2],[2,3],[1,4],[3,4],[1,3],[2,4],[1],[2],[3],[4]] ,\n",
        "     [[1,4],[1,2],[2,4],[1],[2],[4]],\n",
        "     [[1,2],[1]]]\n",
        "\n",
        "W = [[[3,4],[2,3],[2,4],[1,4],[1,3],[1,2],[1],[2],[3]],\n",
        "     [[3,4],[2,3],[1,4],[2,4],[1,3],[1,2],[1],[2],[3],[4]],\n",
        "     [[1,2],[2,3],[1,3],[2,4],[1,4],[3,4],[1],[2],[3],[4]],\n",
        "     [[1,2],[1,3],[1,4],[2,3],[2,4],[3,4],[1],[2],[3],[4]]]\n",
        "\n",
        "import copy\n",
        "F_util = copy.deepcopy(F)\n",
        "W_util = copy.deepcopy(W)"
      ],
      "metadata": {
        "id": "Sinbm7H9w7sx"
      },
      "execution_count": null,
      "outputs": []
    },
    {
      "cell_type": "code",
      "source": [
        "while True:\n",
        "  #calculate the offers\n",
        "  offers = [C_f(F[i],i) for i in range(len(F))]\n",
        "\n",
        "  print(\"----Offers made----\")\n",
        "  print(offers)\n",
        "  print(received_offers(offers))\n",
        "\n",
        "  #calculate the acceptances, this is just collecting all the offers made by a firm to a worker\n",
        "  acceptances = [C_w(powerset(j),i) for i,j in enumerate(received_offers(offers))]\n",
        "\n",
        "  #calculate provisional matching based on the acceptances\n",
        "  matching = provisional_matching(acceptances)\n",
        "  print(\"----Matching----\")\n",
        "  print(matching)\n",
        "\n",
        "  rejected_offers = [[x for x in offer if x not in m] for (offer,m) in zip(offers, matching)]\n",
        "  print(\"----Rejected Offers----\")\n",
        "  print(rejected_offers)\n",
        "  update_preferences(rejected_offers)\n",
        "\n",
        "  if all([x==[] for x in rejected_offers]):\n",
        "    break\n"
      ],
      "metadata": {
        "id": "AvZ8pbT3w7SS",
        "colab": {
          "base_uri": "https://localhost:8080/"
        },
        "outputId": "c803f0ac-43f7-40b8-bc28-cd958f23a107"
      },
      "execution_count": null,
      "outputs": [
        {
          "output_type": "stream",
          "name": "stdout",
          "text": [
            "----Offers made----\n",
            "[[3, 4], [3, 4], [1, 2], [1, 2]]\n",
            "[[3, 4], [3, 4], [1, 2], [1, 2]]\n",
            "----Matching----\n",
            "[[3, 4], [3, 4], [1, 2], [1, 2]]\n",
            "----Rejected Offers----\n",
            "[[], [], [], []]\n"
          ]
        }
      ]
    },
    {
      "cell_type": "code",
      "source": [
        "#DAA function\n",
        "def DAA(F,W,p = False):\n",
        "  while True:\n",
        "    #calculate the offers\n",
        "    offers = [C_f(F[i],i) for i in range(len(F))]\n",
        "    if p:\n",
        "      print(\"----Offers made----\")\n",
        "      print(offers)\n",
        "\n",
        "\n",
        "\n",
        "    #calculate the acceptances, this is just collecting all the offers made by a firm to a worker\n",
        "    acceptances = [C_w(powerset(j),i) for i,j in enumerate(received_offers(offers))]\n",
        "\n",
        "    #calculate provisional matching based on the acceptances\n",
        "    matching = provisional_matching(acceptances)\n",
        "\n",
        "    if p:\n",
        "      print(\"----Matching----\")\n",
        "      print(matching)\n",
        "\n",
        "    rejected_offers = [[x for x in offer if x not in m] for (offer,m) in zip(offers, matching)]\n",
        "\n",
        "    if p:\n",
        "      print(\"----Rejected Offers----\")\n",
        "      print(rejected_offers)\n",
        "\n",
        "    update_preferences(rejected_offers)\n",
        "    if all([x==[] for x in rejected_offers]):\n",
        "      break\n",
        "  return matching\n"
      ],
      "metadata": {
        "id": "_ETzKZM9ah-f"
      },
      "execution_count": null,
      "outputs": []
    },
    {
      "cell_type": "code",
      "source": [
        "DAA(F,W,p=True)\n",
        "print([4-U_f(m,i)-1 for (i,m) in enumerate(matching)])\n",
        "print([4-U_w(m,i)-1 for (i,m) in enumerate(received_offers(matching))])\n"
      ],
      "metadata": {
        "colab": {
          "base_uri": "https://localhost:8080/"
        },
        "id": "yIPU4T4C2u1B",
        "outputId": "adb04d33-6f4c-4bd2-d148-efe5cc196c52"
      },
      "execution_count": null,
      "outputs": [
        {
          "output_type": "stream",
          "name": "stdout",
          "text": [
            "----Offers made----\n",
            "[[3, 4], [3, 4], [1, 2], [1, 2]]\n",
            "----Matching----\n",
            "[[3, 4], [3, 4], [1, 2], [1, 2]]\n",
            "----Rejected Offers----\n",
            "[[], [], [], []]\n",
            "[0, 0, 2, 3]\n",
            "[3, 3, 3, 3]\n"
          ]
        }
      ]
    },
    {
      "cell_type": "code",
      "source": [
        "w = 4\n",
        "m = 1\n",
        "current_match = matching[m]\n",
        "current_match_pos = F_util[m].index(current_match)\n",
        "print(current_match_pos)"
      ],
      "metadata": {
        "colab": {
          "base_uri": "https://localhost:8080/"
        },
        "id": "afruP2M528bY",
        "outputId": "e386ffdd-6122-42fd-9551-4a91ac57a81b"
      },
      "execution_count": null,
      "outputs": [
        {
          "output_type": "stream",
          "name": "stdout",
          "text": [
            "3\n"
          ]
        }
      ]
    },
    {
      "cell_type": "code",
      "source": [
        " F_util[m].remove([w])\n",
        " F_util[m].insert(0,[w])"
      ],
      "metadata": {
        "id": "PKkvQ9s7ehUa"
      },
      "execution_count": null,
      "outputs": []
    },
    {
      "cell_type": "code",
      "source": [
        "F_util"
      ],
      "metadata": {
        "colab": {
          "base_uri": "https://localhost:8080/"
        },
        "id": "F-xAUJOJicC-",
        "outputId": "a5b63106-6c20-4bf6-c63d-fc23bc99df71"
      },
      "execution_count": null,
      "outputs": [
        {
          "output_type": "execute_result",
          "data": {
            "text/plain": [
              "[[[1, 2], [1, 3], [2, 4], [3, 4], [1, 4], [2, 3], [1], [2], [3], [4]],\n",
              " [[4], [1, 2], [2, 3], [1, 4], [3, 4], [1, 3], [2, 4], [1], [2], [3]],\n",
              " [[1, 4], [1, 2], [2, 4], [1], [2], [4]],\n",
              " [[1, 2], [1]]]"
            ]
          },
          "metadata": {},
          "execution_count": 94
        }
      ]
    },
    {
      "cell_type": "code",
      "source": [
        " F_util[m]"
      ],
      "metadata": {
        "colab": {
          "base_uri": "https://localhost:8080/"
        },
        "id": "7tlfMFMi3JPa",
        "outputId": "3165da52-5753-47f3-851b-7a5c9976ad03"
      },
      "execution_count": null,
      "outputs": [
        {
          "output_type": "execute_result",
          "data": {
            "text/plain": [
              "[[1, 2], [2, 3], [1, 4], [3, 4], [1, 3], [2, 4], [1], [2], [3], [4]]"
            ]
          },
          "metadata": {},
          "execution_count": 79
        }
      ]
    },
    {
      "cell_type": "code",
      "source": [
        "matching"
      ],
      "metadata": {
        "colab": {
          "base_uri": "https://localhost:8080/"
        },
        "id": "diftj6YxYzZN",
        "outputId": "6403dd5b-5241-42eb-a74e-1dd34d68c053"
      },
      "execution_count": null,
      "outputs": [
        {
          "output_type": "execute_result",
          "data": {
            "text/plain": [
              "[[3, 4], [3, 4], [1, 2], [1, 2]]"
            ]
          },
          "metadata": {},
          "execution_count": 80
        }
      ]
    },
    {
      "cell_type": "code",
      "source": [
        "matching"
      ],
      "metadata": {
        "colab": {
          "base_uri": "https://localhost:8080/"
        },
        "id": "rmECXZDVU3kZ",
        "outputId": "b4071e86-1b45-4fc7-dd91-e87a8dc37e9c"
      },
      "execution_count": null,
      "outputs": [
        {
          "output_type": "execute_result",
          "data": {
            "text/plain": [
              "[[3, 4], [3, 4], [1, 2], [1, 2]]"
            ]
          },
          "metadata": {},
          "execution_count": 81
        }
      ]
    },
    {
      "cell_type": "code",
      "source": [
        "#calculate the offers\n",
        "offers = [C_f(F[i],i) for i in range(len(F))]\n",
        "print(\"----Offers made----\")\n",
        "print(offers)"
      ],
      "metadata": {
        "colab": {
          "base_uri": "https://localhost:8080/"
        },
        "id": "nNmSkjmmaolO",
        "outputId": "8f744a48-6700-4af2-b9e0-2789c8363ac7"
      },
      "execution_count": null,
      "outputs": [
        {
          "output_type": "stream",
          "name": "stdout",
          "text": [
            "----Offers made----\n",
            "[[3, 4], [3, 4], [1, 2], [1, 2]]\n"
          ]
        }
      ]
    },
    {
      "cell_type": "code",
      "source": [
        "received_offers(offers)"
      ],
      "metadata": {
        "colab": {
          "base_uri": "https://localhost:8080/"
        },
        "id": "5kU3TaKRa7u9",
        "outputId": "7b7d4be6-e21f-4f08-a63b-2a8aded7db80"
      },
      "execution_count": null,
      "outputs": [
        {
          "output_type": "execute_result",
          "data": {
            "text/plain": [
              "[[3, 4], [3, 4], [1, 2], [1, 2]]"
            ]
          },
          "metadata": {},
          "execution_count": 52
        }
      ]
    },
    {
      "cell_type": "code",
      "source": [
        "#calculate the acceptances, this is just collecting all the offers made by a firm to a worker\n",
        "acceptances = [C_w(powerset(j),i) for i,j in enumerate(received_offers(offers))]\n"
      ],
      "metadata": {
        "id": "u2VfvF8ParTV"
      },
      "execution_count": null,
      "outputs": []
    },
    {
      "cell_type": "code",
      "source": [
        "#calculate provisional matching based on the acceptances\n",
        "matching = provisional_matching(acceptances)\n",
        "print(\"----Matching----\")\n",
        "print(matching)"
      ],
      "metadata": {
        "id": "QzIzFSLiasXd"
      },
      "execution_count": null,
      "outputs": []
    },
    {
      "cell_type": "code",
      "source": [
        "rejected_offers = [[x for x in offer if x not in m] for (offer,m) in zip(offers, matching)]\n",
        "print(\"----Rejected Offers----\")\n",
        "print(rejected_offers)\n",
        "update_preferences(rejected_offers)"
      ],
      "metadata": {
        "id": "If-dDS1vauNs"
      },
      "execution_count": null,
      "outputs": []
    }
  ]
}