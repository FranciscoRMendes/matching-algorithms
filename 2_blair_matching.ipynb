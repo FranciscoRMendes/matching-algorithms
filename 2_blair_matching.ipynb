{
  "nbformat": 4,
  "nbformat_minor": 0,
  "metadata": {
    "colab": {
      "provenance": [],
      "authorship_tag": "ABX9TyM/vcvr3S4+yYeNAfcDn41C",
      "include_colab_link": true
    },
    "kernelspec": {
      "name": "python3",
      "display_name": "Python 3"
    },
    "language_info": {
      "name": "python"
    }
  },
  "cells": [
    {
      "cell_type": "markdown",
      "metadata": {
        "id": "view-in-github",
        "colab_type": "text"
      },
      "source": [
        "<a href=\"https://colab.research.google.com/github/FranciscoRMendes/matching-algorithms/blob/main/blair_matching.ipynb\" target=\"_parent\"><img src=\"https://colab.research.google.com/assets/colab-badge.svg\" alt=\"Open In Colab\"/></a>"
      ]
    },
    {
      "cell_type": "code",
      "execution_count": null,
      "metadata": {
        "id": "zR1d-cWlbN07"
      },
      "outputs": [],
      "source": [
        "def C_f(X,f):\n",
        "  pref = F[f]\n",
        "  for i in pref:\n",
        "    if i in X:\n",
        "      return i\n",
        "  return []\n",
        "\n",
        "def C_w(X,w):\n",
        "  pref = W[w]\n",
        "  for i in pref:\n",
        "    if i in X:\n",
        "      return i\n",
        "  return []\n",
        "\n",
        "from itertools import chain, combinations\n",
        "\n",
        "def powerset(iterable):\n",
        "    \"powerset([1,2,3]) --> () (1,) (2,) (3,) (1,2) (1,3) (2,3) (1,2,3)\"\n",
        "    s = list(iterable)\n",
        "    return chain.from_iterable(combinations(s, r) for r in range(len(s)+1))\n",
        "\n",
        "def powerset(iterable):\n",
        "    \"powerset([1,2,3]) --> () (1,) (2,) (3,) (1,2) (1,3) (2,3) (1,2,3)\"\n",
        "    s = list(iterable)\n",
        "    x = chain.from_iterable(combinations(s, r) for r in range(len(s)+1))\n",
        "    return [list(x) for x in list(x)]\n",
        "\n",
        "def received_offers(offers):\n",
        "  out = list()\n",
        "  for worker in range(len(W)):\n",
        "    x = list()\n",
        "    for i,o in enumerate(offers):\n",
        "      if worker+1 in o:\n",
        "        x.append([i+1,o[1]])\n",
        "    out.append(x)\n",
        "  # print(out)\n",
        "  return out\n",
        "\n",
        "def provisional_matching(prov_acceptances):\n",
        "  out = list()\n",
        "  for firm in range(len(F)):\n",
        "    x = list()\n",
        "    for i,p in enumerate(prov_acceptances):\n",
        "      if firm+1 in p:\n",
        "        x.append([i+1,p[1]])\n",
        "    out.append(x)\n",
        "  return out\n",
        "\n",
        "def update_preferences(rejected_offers):\n",
        "  for i in range(len(F)):\n",
        "    pref = F[i]\n",
        "    F[i] = [x for x in pref if not any([y in rejected_offers[i] for y in x])]\n",
        "\n"
      ]
    },
    {
      "cell_type": "code",
      "source": [
        "# import random\n",
        "# raw_pref = [x for x in powerset([1,2,3,100,200]) if len(x)==2 and x[0]<100 and x[1]>3]\n",
        "# ix = list(range(len(raw_pref)))\n",
        "# W = list()\n",
        "# for i in range(3):\n",
        "#   random.shuffle(ix)\n",
        "#   W.append([raw_pref[i] for i in ix])\n",
        "\n",
        "W = [[[1, 100], [3, 100], [1, 200], [3, 200], [2, 200], [2, 100]],\n",
        " [[3, 200], [2, 100], [1, 100], [1, 200], [2, 200], [3, 100]],\n",
        " [[2, 200], [2, 100], [3, 100], [1, 200], [3, 200], [1, 100]]]\n",
        "\n",
        "W"
      ],
      "metadata": {
        "colab": {
          "base_uri": "https://localhost:8080/"
        },
        "id": "bBqE58vGbSy-",
        "outputId": "18df1be1-bdad-4c18-84bf-5c54ecd7dc6d"
      },
      "execution_count": null,
      "outputs": [
        {
          "output_type": "execute_result",
          "data": {
            "text/plain": [
              "[[[1, 100], [3, 100], [1, 200], [3, 200], [2, 200], [2, 100]],\n",
              " [[3, 200], [2, 100], [1, 100], [1, 200], [2, 200], [3, 100]],\n",
              " [[2, 200], [2, 100], [3, 100], [1, 200], [3, 200], [1, 100]]]"
            ]
          },
          "metadata": {},
          "execution_count": 2
        }
      ]
    },
    {
      "cell_type": "code",
      "source": [
        "# raw_pref = [x for x in powerset([1,2,3,100,200]) if len(x)==2 and x[0]<100 and x[1]>3]\n",
        "# ix = list(range(len(raw_pref)))\n",
        "# F = list()\n",
        "# for i in range(3):\n",
        "#   random.shuffle(ix)\n",
        "#   F.append([raw_pref[i] for i in ix])\n",
        "F = [[[3, 200], [1, 100], [2, 100], [3, 100], [2, 200], [1, 200]],\n",
        " [[1, 200], [2, 200], [2, 100], [1, 100], [3, 100], [3, 200]],\n",
        " [[1, 100], [3, 200], [1, 200], [3, 100], [2, 200], [2, 100]]]\n",
        "F"
      ],
      "metadata": {
        "colab": {
          "base_uri": "https://localhost:8080/"
        },
        "id": "bmuuLwk5bUuM",
        "outputId": "df14d2a6-d1f9-4069-a7bd-145ca4081be9"
      },
      "execution_count": null,
      "outputs": [
        {
          "output_type": "execute_result",
          "data": {
            "text/plain": [
              "[[[3, 200], [1, 100], [2, 100], [3, 100], [2, 200], [1, 200]],\n",
              " [[1, 200], [2, 200], [2, 100], [1, 100], [3, 100], [3, 200]],\n",
              " [[1, 100], [3, 200], [1, 200], [3, 100], [2, 200], [2, 100]]]"
            ]
          },
          "metadata": {},
          "execution_count": 3
        }
      ]
    },
    {
      "cell_type": "code",
      "source": [
        "while True:\n",
        "  #calculate the offers\n",
        "  offers = [C_f(F[i],i) for i in range(len(F))]\n",
        "  print(\"----Offers made----\")\n",
        "  print(offers)\n",
        "  print(\"----Received Offers----\")\n",
        "  print(received_offers(offers))\n",
        "  acceptances = [C_w(j,i) for i,j in enumerate(received_offers(offers))]\n",
        "  print(\"----Acceptances----\")\n",
        "  print(acceptances)\n",
        "  matching = provisional_matching(acceptances)\n",
        "  matching = [x[0] if len(x)>0 else x for x in matching ]\n",
        "  print(\"----Matching----\")\n",
        "  print(matching)\n",
        "  rejected_offers = [ [x for x in offer if x not in m] for (offer,m) in zip(offers, matching)]\n",
        "  print(\"----Rejections----\")\n",
        "  print(rejected_offers)\n",
        "  update_preferences(rejected_offers)\n",
        "  print(\"----------------------\")\n",
        "  if all([x==[] for x in rejected_offers]):\n",
        "    break"
      ],
      "metadata": {
        "colab": {
          "base_uri": "https://localhost:8080/"
        },
        "id": "aIuPh0A71jbN",
        "outputId": "fb0d45ba-4048-45b7-bec6-14793d1bb314"
      },
      "execution_count": null,
      "outputs": [
        {
          "output_type": "stream",
          "name": "stdout",
          "text": [
            "----Offers made----\n",
            "[[3, 200], [1, 200], [1, 100]]\n",
            "----Received Offers----\n",
            "[[[2, 200], [3, 100]], [], [[1, 200]]]\n",
            "----Acceptances----\n",
            "[[3, 100], [], [1, 200]]\n",
            "----Matching----\n",
            "[[3, 200], [], [1, 100]]\n",
            "----Rejections----\n",
            "[[], [1, 200], []]\n",
            "----------------------\n",
            "----Offers made----\n",
            "[[3, 200], [2, 100], [1, 100]]\n",
            "----Received Offers----\n",
            "[[[3, 100]], [[2, 100]], [[1, 200]]]\n",
            "----Acceptances----\n",
            "[[3, 100], [2, 100], [1, 200]]\n",
            "----Matching----\n",
            "[[3, 200], [2, 100], [1, 100]]\n",
            "----Rejections----\n",
            "[[], [], []]\n",
            "----------------------\n"
          ]
        }
      ]
    },
    {
      "cell_type": "code",
      "source": [
        "#calculate the offers\n",
        "offers = [C_f(F[i],i) for i in range(len(F))]\n",
        "print(\"----Offers made----\")\n",
        "print(offers)"
      ],
      "metadata": {
        "colab": {
          "base_uri": "https://localhost:8080/"
        },
        "id": "hQsc-L49baSa",
        "outputId": "c738d739-83fb-4f81-91dc-6022be5a0a99"
      },
      "execution_count": null,
      "outputs": [
        {
          "output_type": "stream",
          "name": "stdout",
          "text": [
            "----Offers made----\n",
            "[[3, 200], [2, 100], [1, 100]]\n"
          ]
        }
      ]
    },
    {
      "cell_type": "code",
      "source": [
        "acceptances = [C_w(j,i) for i,j in enumerate(received_offers(offers))]\n",
        "print(acceptances)"
      ],
      "metadata": {
        "colab": {
          "base_uri": "https://localhost:8080/"
        },
        "id": "Xve6AdZHbfJ8",
        "outputId": "f3b153f4-913d-444d-e32d-01f18560071e"
      },
      "execution_count": null,
      "outputs": [
        {
          "output_type": "stream",
          "name": "stdout",
          "text": [
            "[[3, 100], [2, 100], [1, 200]]\n"
          ]
        }
      ]
    },
    {
      "cell_type": "code",
      "source": [
        "matching = provisional_matching(acceptances)\n",
        "matching = [x[0] if len(x)>0 else x for x in matching ]\n",
        "print(matching)"
      ],
      "metadata": {
        "colab": {
          "base_uri": "https://localhost:8080/"
        },
        "id": "OIDM5aoodhjq",
        "outputId": "4f94fdcb-bde1-4ffe-deba-fe871172dc94"
      },
      "execution_count": null,
      "outputs": [
        {
          "output_type": "stream",
          "name": "stdout",
          "text": [
            "[[3, 200], [2, 100], [1, 100]]\n"
          ]
        }
      ]
    },
    {
      "cell_type": "code",
      "source": [
        "rejected_offers = [ [x for x in offer if x not in m] for (offer,m) in zip(offers, matching)]\n",
        "print(rejected_offers)"
      ],
      "metadata": {
        "colab": {
          "base_uri": "https://localhost:8080/"
        },
        "id": "VwRUCT2seUyh",
        "outputId": "35874228-92a9-4d51-bec4-0ac1f68a139e"
      },
      "execution_count": null,
      "outputs": [
        {
          "output_type": "stream",
          "name": "stdout",
          "text": [
            "[[], [1, 200], []]\n"
          ]
        }
      ]
    },
    {
      "cell_type": "code",
      "source": [
        "update_preferences(rejected_offers)\n"
      ],
      "metadata": {
        "id": "tRBBhz80eeQg"
      },
      "execution_count": null,
      "outputs": []
    },
    {
      "cell_type": "code",
      "source": [
        "#calculate the offers\n",
        "offers = [C_f(F[i],i) for i in range(len(F))]\n",
        "print(\"----Offers made----\")\n",
        "print(offers)\n",
        "print(\"----Received Offers----\")\n",
        "print(received_offers(offers))\n",
        "acceptances = [C_w(j,i) for i,j in enumerate(received_offers(offers))]\n",
        "print(\"----Acceptances----\")\n",
        "print(acceptances)\n",
        "matching = provisional_matching(acceptances)\n",
        "matching = [x[0] if len(x)>0 else x for x in matching ]\n",
        "print(\"----Matching----\")\n",
        "print(matching)\n",
        "rejected_offers = [ [x for x in offer if x not in m] for (offer,m) in zip(offers, matching)]\n",
        "print(\"----Rejections----\")\n",
        "print(rejected_offers)\n",
        "update_preferences(rejected_offers)"
      ],
      "metadata": {
        "colab": {
          "base_uri": "https://localhost:8080/"
        },
        "id": "sVLkZGgYodB8",
        "outputId": "92b41f79-a16d-4b14-ece2-fd3a3d188840"
      },
      "execution_count": null,
      "outputs": [
        {
          "output_type": "stream",
          "name": "stdout",
          "text": [
            "----Offers made----\n",
            "[[3, 200], [2, 100], [1, 100]]\n",
            "----Received Offers----\n",
            "[[[3, 100]], [[2, 100]], [[1, 200]]]\n",
            "----Acceptances----\n",
            "[[3, 100], [2, 100], [1, 200]]\n",
            "----Matching----\n",
            "[[3, 200], [2, 100], [1, 100]]\n",
            "----Rejections----\n",
            "[[], [], []]\n"
          ]
        }
      ]
    }
  ]
}
